{
 "cells": [
  {
   "cell_type": "code",
   "execution_count": 1,
   "metadata": {},
   "outputs": [],
   "source": [
    "from fastai.vision import *\n",
    "from fastai.layers import *\n",
    "from fastai.callbacks.hooks import *\n",
    "import re\n",
    "import cv2\n",
    "import torch\n",
    "import warnings\n",
    "warnings.filterwarnings('ignore')"
   ]
  },
  {
   "cell_type": "code",
   "execution_count": 2,
   "metadata": {},
   "outputs": [],
   "source": [
    "train_csv_path = './train.csv'\n",
    "train_data_path = './train_images'\n",
    "test_csv_path = './test.csv'\n",
    "test_data_path = './test_images'\n",
    "unicode_csv_path = './unicode_translation.csv'"
   ]
  },
  {
   "cell_type": "code",
   "execution_count": 3,
   "metadata": {},
   "outputs": [],
   "source": [
    "def _binarize(x):\n",
    "    if x.shape[0] != 1:\n",
    "        b = int(x.shape[1] * 2/3)\n",
    "        b = b if b % 2 == 1 else b+1\n",
    "        x = cv2.cvtColor(x.numpy().transpose(1, 2, 0), cv2.COLOR_BGR2GRAY)\n",
    "        x = (x*255).astype('uint8')\n",
    "        x = cv2.adaptiveThreshold(x,255,cv2.ADAPTIVE_THRESH_MEAN_C, cv2.THRESH_BINARY,b,2)\n",
    "        x = torch.from_numpy(x/255).float()\n",
    "        x = torch.unsqueeze(x, 0)\n",
    "    return x\n",
    "                           \n",
    "binarize = TfmPixel(_binarize)"
   ]
  },
  {
   "cell_type": "code",
   "execution_count": 81,
   "metadata": {},
   "outputs": [],
   "source": [
    "# Use for filtering specific folders\n",
    "db = ImageList.from_folder('./char_images') \\\n",
    "            .filter_by_folder(['U+306B', 'U+306E', 'U+3057', 'U+3066', 'U+3068', 'U+3092', 'U+306F', 'U+304B', 'U+308A', 'U+306A']) \\\n",
    "            .split_by_rand_pct() \\\n",
    "            .label_from_folder() \\\n",
    "            .transform([[binarize()], [binarize()]], size=(32,32)) \\\n",
    "            .databunch(bs=256)"
   ]
  },
  {
   "cell_type": "code",
   "execution_count": 82,
   "metadata": {},
   "outputs": [
    {
     "data": {
      "text/plain": [
       "ImageDataBunch;\n",
       "\n",
       "Train: LabelList (144772 items)\n",
       "x: ImageList\n",
       "Image (1, 32, 32),Image (1, 32, 32),Image (1, 32, 32),Image (1, 32, 32),Image (1, 32, 32)\n",
       "y: CategoryList\n",
       "U+306E,U+306E,U+306E,U+306E,U+306E\n",
       "Path: char_images;\n",
       "\n",
       "Valid: LabelList (36193 items)\n",
       "x: ImageList\n",
       "Image (1, 32, 32),Image (1, 32, 32),Image (1, 32, 32),Image (1, 32, 32),Image (1, 32, 32)\n",
       "y: CategoryList\n",
       "U+3066,U+3092,U+306A,U+306A,U+304B\n",
       "Path: char_images;\n",
       "\n",
       "Test: None"
      ]
     },
     "execution_count": 82,
     "metadata": {},
     "output_type": "execute_result"
    },
    {
     "data": {
      "image/png": "[encoded data removed]",
      "text/plain": [
       "<Figure size 576x576 with 4 Axes>"
      ]
     },
     "metadata": {
      "needs_background": "light"
     },
     "output_type": "display_data"
    }
   ],
   "source": [
    "db.show_batch(rows=2)\n",
    "db"
   ]
  },
  {
   "cell_type": "code",
   "execution_count": 83,
   "metadata": {},
   "outputs": [],
   "source": [
    "loss = nn.CrossEntropyLoss()\n",
    "\n",
    "class KuzuCharRec(nn.Module):\n",
    "    \n",
    "    def _conv2d_layer(self, ni, nf, stride=1):\n",
    "        return nn.Sequential(\n",
    "            conv2d(ni, nf, stride=stride, padding=1, bias=True),\n",
    "            batchnorm_2d(nf),\n",
    "            relu(True)\n",
    "        )\n",
    "    \n",
    "    def __init__(self):\n",
    "        super().__init__()\n",
    "        starting_channels = 24\n",
    "        self.conv_layers = []\n",
    "        ch = starting_channels\n",
    "        for i in range(0,9):\n",
    "            if i%3 == 0:\n",
    "                if i == 0:\n",
    "                    self.conv_layers.append(self._conv2d_layer(1, ch, stride=2))\n",
    "                else:\n",
    "                    self.conv_layers.append(self._conv2d_layer(ch, ch*2, stride=2))\n",
    "                    ch *= 2\n",
    "            else:\n",
    "                self.conv_layers.append(self._conv2d_layer(ch, ch))\n",
    "        self.conv_layers = nn.Sequential(*self.conv_layers)\n",
    "        self.pool1 = PoolFlatten()\n",
    "        self.lin = nn.Sequential(*bn_drop_lin(ch, db.c, p=0.25))\n",
    "        \n",
    "    def forward(self, xb):\n",
    "        act1 = self.conv_layers(xb)\n",
    "        act2 = self.pool1(act1)\n",
    "        act3 = self.lin(act2)\n",
    "        return act3"
   ]
  },
  {
   "cell_type": "code",
   "execution_count": 84,
   "metadata": {},
   "outputs": [
    {
     "name": "stdout",
     "output_type": "stream",
     "text": [
      "KuzuCharRec(\n",
      "  (conv_layers): Sequential(\n",
      "    (0): Sequential(\n",
      "      (0): Conv2d(1, 24, kernel_size=(3, 3), stride=(2, 2), padding=(1, 1))\n",
      "      (1): BatchNorm2d(24, eps=1e-05, momentum=0.1, affine=True, track_running_stats=True)\n",
      "      (2): ReLU(inplace=True)\n",
      "    )\n",
      "    (1): Sequential(\n",
      "      (0): Conv2d(24, 24, kernel_size=(3, 3), stride=(1, 1), padding=(1, 1))\n",
      "      (1): BatchNorm2d(24, eps=1e-05, momentum=0.1, affine=True, track_running_stats=True)\n",
      "      (2): ReLU(inplace=True)\n",
      "    )\n",
      "    (2): Sequential(\n",
      "      (0): Conv2d(24, 24, kernel_size=(3, 3), stride=(1, 1), padding=(1, 1))\n",
      "      (1): BatchNorm2d(24, eps=1e-05, momentum=0.1, affine=True, track_running_stats=True)\n",
      "      (2): ReLU(inplace=True)\n",
      "    )\n",
      "    (3): Sequential(\n",
      "      (0): Conv2d(24, 48, kernel_size=(3, 3), stride=(2, 2), padding=(1, 1))\n",
      "      (1): BatchNorm2d(48, eps=1e-05, momentum=0.1, affine=True, track_running_stats=True)\n",
      "      (2): ReLU(inplace=True)\n",
      "    )\n",
      "    (4): Sequential(\n",
      "      (0): Conv2d(48, 48, kernel_size=(3, 3), stride=(1, 1), padding=(1, 1))\n",
      "      (1): BatchNorm2d(48, eps=1e-05, momentum=0.1, affine=True, track_running_stats=True)\n",
      "      (2): ReLU(inplace=True)\n",
      "    )\n",
      "    (5): Sequential(\n",
      "      (0): Conv2d(48, 48, kernel_size=(3, 3), stride=(1, 1), padding=(1, 1))\n",
      "      (1): BatchNorm2d(48, eps=1e-05, momentum=0.1, affine=True, track_running_stats=True)\n",
      "      (2): ReLU(inplace=True)\n",
      "    )\n",
      "    (6): Sequential(\n",
      "      (0): Conv2d(48, 96, kernel_size=(3, 3), stride=(2, 2), padding=(1, 1))\n",
      "      (1): BatchNorm2d(96, eps=1e-05, momentum=0.1, affine=True, track_running_stats=True)\n",
      "      (2): ReLU(inplace=True)\n",
      "    )\n",
      "    (7): Sequential(\n",
      "      (0): Conv2d(96, 96, kernel_size=(3, 3), stride=(1, 1), padding=(1, 1))\n",
      "      (1): BatchNorm2d(96, eps=1e-05, momentum=0.1, affine=True, track_running_stats=True)\n",
      "      (2): ReLU(inplace=True)\n",
      "    )\n",
      "    (8): Sequential(\n",
      "      (0): Conv2d(96, 96, kernel_size=(3, 3), stride=(1, 1), padding=(1, 1))\n",
      "      (1): BatchNorm2d(96, eps=1e-05, momentum=0.1, affine=True, track_running_stats=True)\n",
      "      (2): ReLU(inplace=True)\n",
      "    )\n",
      "  )\n",
      "  (pool1): Sequential(\n",
      "    (0): AdaptiveAvgPool2d(output_size=1)\n",
      "    (1): Flatten()\n",
      "  )\n",
      "  (lin): Sequential(\n",
      "    (0): BatchNorm1d(96, eps=1e-05, momentum=0.1, affine=True, track_running_stats=True)\n",
      "    (1): Dropout(p=0.25, inplace=False)\n",
      "    (2): Linear(in_features=96, out_features=10, bias=True)\n",
      "  )\n",
      ")\n",
      "KuzuCharRec\n",
      "======================================================================\n",
      "Layer (type)         Output Shape         Param #    Trainable \n",
      "======================================================================\n",
      "Conv2d               [24, 16, 16]         240        True      \n",
      "______________________________________________________________________\n",
      "BatchNorm2d          [24, 16, 16]         48         True      \n",
      "______________________________________________________________________\n",
      "ReLU                 [24, 16, 16]         0          False     \n",
      "______________________________________________________________________\n",
      "Conv2d               [24, 16, 16]         5,208      True      \n",
      "______________________________________________________________________\n",
      "BatchNorm2d          [24, 16, 16]         48         True      \n",
      "______________________________________________________________________\n",
      "ReLU                 [24, 16, 16]         0          False     \n",
      "______________________________________________________________________\n",
      "Conv2d               [24, 16, 16]         5,208      True      \n",
      "______________________________________________________________________\n",
      "BatchNorm2d          [24, 16, 16]         48         True      \n",
      "______________________________________________________________________\n",
      "ReLU                 [24, 16, 16]         0          False     \n",
      "______________________________________________________________________\n",
      "Conv2d               [48, 8, 8]           10,416     True      \n",
      "______________________________________________________________________\n",
      "BatchNorm2d          [48, 8, 8]           96         True      \n",
      "______________________________________________________________________\n",
      "ReLU                 [48, 8, 8]           0          False     \n",
      "______________________________________________________________________\n",
      "Conv2d               [48, 8, 8]           20,784     True      \n",
      "______________________________________________________________________\n",
      "BatchNorm2d          [48, 8, 8]           96         True      \n",
      "______________________________________________________________________\n",
      "ReLU                 [48, 8, 8]           0          False     \n",
      "______________________________________________________________________\n",
      "Conv2d               [48, 8, 8]           20,784     True      \n",
      "______________________________________________________________________\n",
      "BatchNorm2d          [48, 8, 8]           96         True      \n",
      "______________________________________________________________________\n",
      "ReLU                 [48, 8, 8]           0          False     \n",
      "______________________________________________________________________\n",
      "Conv2d               [96, 4, 4]           41,568     True      \n",
      "______________________________________________________________________\n",
      "BatchNorm2d          [96, 4, 4]           192        True      \n",
      "______________________________________________________________________\n",
      "ReLU                 [96, 4, 4]           0          False     \n",
      "______________________________________________________________________\n",
      "Conv2d               [96, 4, 4]           83,040     True      \n",
      "______________________________________________________________________\n",
      "BatchNorm2d          [96, 4, 4]           192        True      \n",
      "______________________________________________________________________\n",
      "ReLU                 [96, 4, 4]           0          False     \n",
      "______________________________________________________________________\n",
      "Conv2d               [96, 4, 4]           83,040     True      \n",
      "______________________________________________________________________\n",
      "BatchNorm2d          [96, 4, 4]           192        True      \n",
      "______________________________________________________________________\n",
      "ReLU                 [96, 4, 4]           0          False     \n",
      "______________________________________________________________________\n",
      "AdaptiveAvgPool2d    [96, 1, 1]           0          False     \n",
      "______________________________________________________________________\n",
      "Flatten              [96]                 0          False     \n",
      "______________________________________________________________________\n",
      "BatchNorm1d          [96]                 192        True      \n",
      "______________________________________________________________________\n",
      "Dropout              [96]                 0          False     \n",
      "______________________________________________________________________\n",
      "Linear               [10]                 970        True      \n",
      "______________________________________________________________________\n",
      "\n",
      "Total params: 272,458\n",
      "Total trainable params: 272,458\n",
      "Total non-trainable params: 0\n",
      "Optimized with 'torch.optim.adam.Adam', betas=(0.9, 0.99)\n",
      "Using true weight decay as discussed in https://www.fast.ai/2018/07/02/adam-weight-decay/ \n",
      "Loss function : CrossEntropyLoss\n",
      "======================================================================\n",
      "Callbacks functions applied \n",
      "\n"
     ]
    }
   ],
   "source": [
    "learn = Learner(db, KuzuCharRec(), loss_func=loss, metrics=accuracy)\n",
    "print(learn.model)\n",
    "print(learn.summary())"
   ]
  },
  {
   "cell_type": "code",
   "execution_count": 85,
   "metadata": {},
   "outputs": [
    {
     "data": {
      "text/plain": [
       "8955"
      ]
     },
     "execution_count": 85,
     "metadata": {},
     "output_type": "execute_result"
    }
   ],
   "source": [
    "gc.collect()"
   ]
  },
  {
   "cell_type": "code",
   "execution_count": null,
   "metadata": {},
   "outputs": [],
   "source": [
    "learn.lr_find()\n",
    "learn.recorder.plot()"
   ]
  },
  {
   "cell_type": "code",
   "execution_count": 86,
   "metadata": {},
   "outputs": [
    {
     "data": {
      "text/html": [
       "<table border=\"1\" class=\"dataframe\">\n",
       "  <thead>\n",
       "    <tr style=\"text-align: left;\">\n",
       "      <th>epoch</th>\n",
       "      <th>train_loss</th>\n",
       "      <th>valid_loss</th>\n",
       "      <th>accuracy</th>\n",
       "      <th>time</th>\n",
       "    </tr>\n",
       "  </thead>\n",
       "  <tbody>\n",
       "    <tr>\n",
       "      <td>0</td>\n",
       "      <td>0.066608</td>\n",
       "      <td>0.054646</td>\n",
       "      <td>0.983698</td>\n",
       "      <td>00:26</td>\n",
       "    </tr>\n",
       "  </tbody>\n",
       "</table>"
      ],
      "text/plain": [
       "<IPython.core.display.HTML object>"
      ]
     },
     "metadata": {},
     "output_type": "display_data"
    }
   ],
   "source": [
    "learn.fit_one_cycle(1, slice(4e-3))"
   ]
  },
  {
   "cell_type": "code",
   "execution_count": 87,
   "metadata": {},
   "outputs": [
    {
     "data": {
      "image/png": "[encoded data removed]",
      "text/plain": [
       "<Figure size 432x288 with 1 Axes>"
      ]
     },
     "metadata": {
      "needs_background": "light"
     },
     "output_type": "display_data"
    }
   ],
   "source": [
    "learn.recorder.plot_losses()"
   ]
  },
  {
   "cell_type": "code",
   "execution_count": 88,
   "metadata": {},
   "outputs": [
    {
     "data": {
      "text/plain": [
       "PosixPath('char_images/models/rec10.pth')"
      ]
     },
     "execution_count": 88,
     "metadata": {},
     "output_type": "execute_result"
    }
   ],
   "source": [
    "learn.save('rec10', return_path=True)"
   ]
  },
  {
   "cell_type": "code",
   "execution_count": 8,
   "metadata": {},
   "outputs": [],
   "source": [
    "learn = learn.load('rec10')"
   ]
  },
  {
   "cell_type": "code",
   "execution_count": 9,
   "metadata": {},
   "outputs": [
    {
     "data": {
      "text/html": [],
      "text/plain": [
       "<IPython.core.display.HTML object>"
      ]
     },
     "metadata": {},
     "output_type": "display_data"
    }
   ],
   "source": [
    "interp = ClassificationInterpretation.from_learner(learn)"
   ]
  },
  {
   "cell_type": "code",
   "execution_count": 10,
   "metadata": {},
   "outputs": [],
   "source": [
    "loss,ind = interp.top_losses()"
   ]
  },
  {
   "cell_type": "code",
   "execution_count": 11,
   "metadata": {},
   "outputs": [
    {
     "data": {
      "image/png": "[encoded data removed]",
      "text/plain": [
       "<Figure size 432x432 with 1 Axes>"
      ]
     },
     "metadata": {
      "needs_background": "light"
     },
     "output_type": "display_data"
    }
   ],
   "source": [
    "interp.plot_confusion_matrix(figsize=(6,6))"
   ]
  },
  {
   "cell_type": "code",
   "execution_count": 210,
   "metadata": {},
   "outputs": [
    {
     "data": {
      "image/jpeg": "[encoded data removed]",
      "image/png": "[encoded data removed]",
      "text/plain": [
       "Image (1, 64, 64)"
      ]
     },
     "execution_count": 210,
     "metadata": {},
     "output_type": "execute_result"
    }
   ],
   "source": [
    "x, y = db.valid_ds[0]\n",
    "x"
   ]
  },
  {
   "cell_type": "code",
   "execution_count": 211,
   "metadata": {},
   "outputs": [
    {
     "data": {
      "text/plain": [
       "Category 5"
      ]
     },
     "execution_count": 211,
     "metadata": {},
     "output_type": "execute_result"
    }
   ],
   "source": [
    "y"
   ]
  },
  {
   "cell_type": "code",
   "execution_count": 212,
   "metadata": {},
   "outputs": [],
   "source": [
    "xb, _ = db.one_item(x)\n",
    "xb_im = Image(xb[0])\n",
    "xb = xb.cuda()"
   ]
  },
  {
   "cell_type": "code",
   "execution_count": 213,
   "metadata": {},
   "outputs": [
    {
     "data": {
      "text/plain": [
       "torch.Size([1, 1, 64, 64])"
      ]
     },
     "execution_count": 213,
     "metadata": {},
     "output_type": "execute_result"
    }
   ],
   "source": [
    "xb.shape"
   ]
  },
  {
   "cell_type": "code",
   "execution_count": 214,
   "metadata": {},
   "outputs": [],
   "source": [
    "m = learn.model.eval()"
   ]
  },
  {
   "cell_type": "code",
   "execution_count": 215,
   "metadata": {},
   "outputs": [],
   "source": [
    "def hook_final(xb):\n",
    "    with hook_output(m.conv_layers) as hook:\n",
    "        preds = m(xb)\n",
    "    return hook"
   ]
  },
  {
   "cell_type": "code",
   "execution_count": 216,
   "metadata": {},
   "outputs": [],
   "source": [
    "hook = hook_final(xb)"
   ]
  },
  {
   "cell_type": "code",
   "execution_count": 217,
   "metadata": {},
   "outputs": [],
   "source": [
    "kern_out = hook.stored[0].cpu()"
   ]
  },
  {
   "cell_type": "code",
   "execution_count": 218,
   "metadata": {},
   "outputs": [],
   "source": [
    "heatmap = kern_out.mean(0)"
   ]
  },
  {
   "cell_type": "code",
   "execution_count": 219,
   "metadata": {},
   "outputs": [
    {
     "data": {
      "text/plain": [
       "torch.Size([8, 8])"
      ]
     },
     "execution_count": 219,
     "metadata": {},
     "output_type": "execute_result"
    }
   ],
   "source": [
    "heatmap.shape"
   ]
  },
  {
   "cell_type": "code",
   "execution_count": 220,
   "metadata": {},
   "outputs": [],
   "source": [
    "def show_heatmap(hm):\n",
    "    _,ax = plt.subplots()\n",
    "    xb_im.show(ax, cmap='autumn')\n",
    "    ax.imshow(hm, alpha=0.6, extent=(0,64,64,0),\n",
    "              interpolation='spline36', cmap='winter');"
   ]
  },
  {
   "cell_type": "code",
   "execution_count": 221,
   "metadata": {},
   "outputs": [
    {
     "data": {
      "image/png": "[encoded data removed]",
      "text/plain": [
       "<Figure size 432x288 with 1 Axes>"
      ]
     },
     "metadata": {
      "needs_background": "light"
     },
     "output_type": "display_data"
    }
   ],
   "source": [
    "show_heatmap(heatmap)"
   ]
  },
  {
   "cell_type": "code",
   "execution_count": null,
   "metadata": {},
   "outputs": [],
   "source": []
  }
 ],
 "metadata": {
  "kernelspec": {
   "display_name": "kuzushiji_venv",
   "language": "python",
   "name": "kuzushiji_venv"
  },
  "language_info": {
   "codemirror_mode": {
    "name": "ipython",
    "version": 3
   },
   "file_extension": ".py",
   "mimetype": "text/x-python",
   "name": "python",
   "nbconvert_exporter": "python",
   "pygments_lexer": "ipython3",
   "version": "3.6.9"
  }
 },
 "nbformat": 4,
 "nbformat_minor": 4
}
